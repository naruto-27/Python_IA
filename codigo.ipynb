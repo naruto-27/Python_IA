{
 "cells": [
  {
   "cell_type": "code",
   "execution_count": 1,
   "metadata": {},
   "outputs": [
    {
     "name": "stdout",
     "output_type": "stream",
     "text": [
      "Meu primeiro codigo no Jupyter\n"
     ]
    }
   ],
   "source": [
    "print(\"Meu primeiro codigo no Jupyter\")"
   ]
  },
  {
   "cell_type": "code",
   "execution_count": 2,
   "metadata": {},
   "outputs": [
    {
     "name": "stdout",
     "output_type": "stream",
     "text": [
      "500\n"
     ]
    }
   ],
   "source": [
    "faturamento = 1000\n",
    "custo = 500\n",
    "\n",
    "lucro = faturamento - custo\n",
    "print(lucro)"
   ]
  },
  {
   "cell_type": "code",
   "execution_count": 3,
   "metadata": {},
   "outputs": [
    {
     "data": {
      "text/plain": [
       "int"
      ]
     },
     "execution_count": 3,
     "metadata": {},
     "output_type": "execute_result"
    }
   ],
   "source": [
    "faturamento = 1000\n",
    "type(faturamento)"
   ]
  },
  {
   "cell_type": "code",
   "execution_count": 4,
   "metadata": {},
   "outputs": [
    {
     "data": {
      "text/plain": [
       "float"
      ]
     },
     "execution_count": 4,
     "metadata": {},
     "output_type": "execute_result"
    }
   ],
   "source": [
    "faturamento = 1000.00\n",
    "type(faturamento)"
   ]
  },
  {
   "cell_type": "code",
   "execution_count": 5,
   "metadata": {},
   "outputs": [
    {
     "data": {
      "text/plain": [
       "str"
      ]
     },
     "execution_count": 5,
     "metadata": {},
     "output_type": "execute_result"
    }
   ],
   "source": [
    "faturamento = \"1.000\"\n",
    "type(faturamento)"
   ]
  },
  {
   "cell_type": "code",
   "execution_count": 6,
   "metadata": {},
   "outputs": [
    {
     "data": {
      "text/plain": [
       "bool"
      ]
     },
     "execution_count": 6,
     "metadata": {},
     "output_type": "execute_result"
    }
   ],
   "source": [
    "ganha_bonus = True\n",
    "type(ganha_bonus)"
   ]
  },
  {
   "cell_type": "code",
   "execution_count": 14,
   "metadata": {},
   "outputs": [
    {
     "name": "stdout",
     "output_type": "stream",
     "text": [
      " O faturamento da loja foi 1000O custo da loja foi 500 Assim, o lucro da loja foi 500 reais\n"
     ]
    }
   ],
   "source": [
    "faturamento = 1000\n",
    "custo = 500\n",
    "lucro = faturamento - custo\n",
    "print(' O faturamento da loja foi ' + str(faturamento) +'O custo da loja foi ' + str(custo) + ' ' +  'Assim, o lucro da loja foi ' + str(lucro) + ' ' + 'reais')\n"
   ]
  },
  {
   "cell_type": "code",
   "execution_count": 19,
   "metadata": {},
   "outputs": [
    {
     "name": "stdout",
     "output_type": "stream",
     "text": [
      "O faturamento da loja foi 2000. O custo da loja foi 500. Assim, o lucro da loja foi 1500\n",
      "O faturamento foi de 2000 e o lucro de 500\n"
     ]
    }
   ],
   "source": [
    "faturamento = 2000\n",
    "custo = 500\n",
    "lucro = faturamento - custo\n",
    "# com format\n",
    "print('O faturamento da loja foi {}. O custo da loja foi {}. Assim, o lucro da loja foi {}'.format(faturamento, custo ,lucro))\n",
    "\n",
    "# com f-string\n",
    "print(f\"O faturamento foi de {faturamento} e o lucro de {custo}\")"
   ]
  },
  {
   "cell_type": "code",
   "execution_count": 1,
   "metadata": {},
   "outputs": [
    {
     "name": "stdout",
     "output_type": "stream",
     "text": [
      "<class 'float'>\n",
      "<class 'float'>\n",
      "500.0\n"
     ]
    }
   ],
   "source": [
    "faturamento = float(input(\"Insira o faturamento\"))\n",
    "custo = float(input(\"Insira o custo\"))\n",
    "\n",
    "print(type(faturamento))\n",
    "print(type(custo))\n",
    "\n",
    "lucro = faturamento - custo\n",
    "\n",
    "print(lucro)"
   ]
  },
  {
   "cell_type": "code",
   "execution_count": 2,
   "metadata": {},
   "outputs": [
    {
     "name": "stdout",
     "output_type": "stream",
     "text": [
      "Seu salário é de: 3220.8\n"
     ]
    }
   ],
   "source": [
    "salario_hr = float(input(\"Insira seu salário\"))\n",
    "horas_trabalhadas = float(input(\"Insira a carga horária trabalhada no mês\"))\n",
    "\n",
    "salario_total = salario_hr * horas_trabalhadas \n",
    "\n",
    "print(f\"Seu salário é de: {salario_total}\")\n"
   ]
  },
  {
   "cell_type": "code",
   "execution_count": 4,
   "metadata": {},
   "outputs": [
    {
     "name": "stdout",
     "output_type": "stream",
     "text": [
      "A média das notas é:  34.50\n"
     ]
    }
   ],
   "source": [
    "nota1 = float(input(\"Insira a primeira nota: \"))\n",
    "nota2 = float(input(\"Insira a segunda nota: \"))\n",
    "nota3 = float(input(\"Insira a terceira nota: \"))\n",
    "nota4 = float(input(\"Insira a quarta nota: \"))\n",
    "\n",
    "media_nota = (nota1 + nota2 + nota3 + nota4)/4\n",
    "\n",
    "\n",
    "print(f\"A média das notas é: {media_nota: .2f}\")"
   ]
  },
  {
   "cell_type": "code",
   "execution_count": 6,
   "metadata": {},
   "outputs": [
    {
     "name": "stdout",
     "output_type": "stream",
     "text": [
      "15\n"
     ]
    }
   ],
   "source": [
    "def soma_lista(numeros):\n",
    "    return sum(numeros)\n",
    "\n",
    "numeros = [1, 2, 3, 4, 5]\n",
    "resultado = soma_lista(numeros)\n",
    "print(resultado)  # Isso vai imprimir 15\n"
   ]
  },
  {
   "cell_type": "code",
   "execution_count": 7,
   "metadata": {},
   "outputs": [
    {
     "name": "stdout",
     "output_type": "stream",
     "text": [
      "8\n"
     ]
    }
   ],
   "source": [
    "def soma(a, b):\n",
    "    return a + b\n",
    "\n",
    "resultado = soma(5, 3)\n",
    "print(resultado)  # Isso vai imprimir 8\n"
   ]
  },
  {
   "cell_type": "code",
   "execution_count": 8,
   "metadata": {},
   "outputs": [
    {
     "name": "stdout",
     "output_type": "stream",
     "text": [
      "O peso ideal para uma pessoa de sexo mulher com altura de 1.58 metros é: 53.42 kg\n"
     ]
    }
   ],
   "source": [
    "# Função que calcula o peso ideal para homens e mulheres\n",
    "def calcular_peso_ideal(altura, sexo):\n",
    "    if sexo == \"homem\":\n",
    "        peso_ideal = 72.7 * altura - 58\n",
    "    elif sexo == \"mulher\":\n",
    "        peso_ideal = 62.1 * altura - 44.7\n",
    "    else:\n",
    "        return \"Sexo inválido. Por favor, insira 'homem' ou 'mulher'.\"\n",
    "    \n",
    "    return peso_ideal\n",
    "\n",
    "# Coletando os dados de entrada\n",
    "altura = float(input(\"Digite a altura em metros (ex: 1.75): \"))\n",
    "sexo = input(\"Digite o sexo (homem/mulher): \").lower()\n",
    "\n",
    "# Chamando a função para calcular o peso ideal\n",
    "peso_ideal = calcular_peso_ideal(altura, sexo)\n",
    "\n",
    "# Exibindo o resultado\n",
    "if isinstance(peso_ideal, str):\n",
    "    print(peso_ideal)\n",
    "else:\n",
    "    print(f\"O peso ideal para uma pessoa de sexo {sexo} com altura de {altura:.2f} metros é: {peso_ideal:.2f} kg\")\n"
   ]
  },
  {
   "cell_type": "code",
   "execution_count": 9,
   "metadata": {},
   "outputs": [
    {
     "name": "stdout",
     "output_type": "stream",
     "text": [
      "Salário Bruto: R$ 3223.00\n",
      "Desconto IR (11%): R$ 354.53\n",
      "Desconto INSS (8%): R$ 257.84\n",
      "Desconto Sindicato (5%): R$ 161.15\n",
      "Salário Líquido: R$ 2449.48\n"
     ]
    }
   ],
   "source": [
    "# Valores fornecidos\n",
    "salario_hora = 14.65\n",
    "horas_trabalhadas_mes = 220\n",
    "desconto_IR_percentual = 0.11  # 11% convertido para decimal\n",
    "desconto_INSS_percentual = 0.08  # 8% convertido para decimal\n",
    "desconto_sindicato_percentual = 0.05  # 5% convertido para decimal\n",
    "\n",
    "# Cálculo do salário bruto\n",
    "salario_bruto = salario_hora * horas_trabalhadas_mes\n",
    "\n",
    "# Cálculo dos descontos\n",
    "desconto_IR_valor = salario_bruto * desconto_IR_percentual\n",
    "desconto_INSS_valor = salario_bruto * desconto_INSS_percentual\n",
    "desconto_sindicato_valor = salario_bruto * desconto_sindicato_percentual\n",
    "\n",
    "# Cálculo do salário líquido (salário bruto - todos os descontos)\n",
    "salario_liquido = salario_bruto - (desconto_IR_valor + desconto_INSS_valor + desconto_sindicato_valor)\n",
    "\n",
    "# Exibição dos resultados\n",
    "print(f\"Salário Bruto: R$ {salario_bruto:.2f}\")\n",
    "print(f\"Desconto IR (11%): R$ {desconto_IR_valor:.2f}\")\n",
    "print(f\"Desconto INSS (8%): R$ {desconto_INSS_valor:.2f}\")\n",
    "print(f\"Desconto Sindicato (5%): R$ {desconto_sindicato_valor:.2f}\")\n",
    "print(f\"Salário Líquido: R$ {salario_liquido:.2f}\")\n"
   ]
  },
  {
   "cell_type": "code",
   "execution_count": 10,
   "metadata": {},
   "outputs": [
    {
     "name": "stdout",
     "output_type": "stream",
     "text": [
      "Quantidade de latas de tinta necessárias: 0.37\n",
      "Preço total: R$ 29.63\n"
     ]
    }
   ],
   "source": [
    "# Solicita ao usuário o tamanho da área em metros quadrados\n",
    "area = float(input(\"Digite o tamanho da área a ser pintada em metros quadrados: \"))\n",
    "\n",
    "# Cálculos\n",
    "litros_necessarios = area / 3  # Cada litro cobre 3 metros quadrados\n",
    "latas_necessarias = litros_necessarios / 18  # Cada lata tem 18 litros\n",
    "preco_total = latas_necessarias * 80  # Cada lata custa R$ 80,00\n",
    "\n",
    "# Exibição dos resultados\n",
    "print(f\"Quantidade de latas de tinta necessárias: {latas_necessarias:.2f}\")\n",
    "print(f\"Preço total: R$ {preco_total:.2f}\")"
   ]
  },
  {
   "cell_type": "code",
   "execution_count": 11,
   "metadata": {},
   "outputs": [
    {
     "name": "stdout",
     "output_type": "stream",
     "text": [
      "Bônus do Funcionário 1: R$ 120.00\n",
      "Bônus do Funcionário 2: R$ 300.00\n",
      "Bônus do Funcionário 3: R$ 0.00\n"
     ]
    }
   ],
   "source": [
    "# Função para calcular o bônus de acordo com as vendas\n",
    "def calcular_bonus(vendas):\n",
    "    meta = 1000\n",
    "    if vendas >= meta:\n",
    "        return vendas * 0.10  # Bônus é 10% do valor das vendas\n",
    "    else:\n",
    "        return 0  # Caso contrário, o bônus é 0\n",
    "\n",
    "# Solicitar as vendas dos 3 funcionários\n",
    "vendas_funcionario1 = float(input(\"Digite o valor de vendas do funcionário 1: \"))\n",
    "vendas_funcionario2 = float(input(\"Digite o valor de vendas do funcionário 2: \"))\n",
    "vendas_funcionario3 = float(input(\"Digite o valor de vendas do funcionário 3: \"))\n",
    "\n",
    "# Calculando o bônus para cada funcionário\n",
    "bonus_funcionario1 = calcular_bonus(vendas_funcionario1)\n",
    "bonus_funcionario2 = calcular_bonus(vendas_funcionario2)\n",
    "bonus_funcionario3 = calcular_bonus(vendas_funcionario3)\n",
    "\n",
    "# Exibindo o bônus dos funcionários\n",
    "print(f\"Bônus do Funcionário 1: R$ {bonus_funcionario1:.2f}\")\n",
    "print(f\"Bônus do Funcionário 2: R$ {bonus_funcionario2:.2f}\")\n",
    "print(f\"Bônus do Funcionário 3: R$ {bonus_funcionario3:.2f}\")\n"
   ]
  },
  {
   "cell_type": "code",
   "execution_count": 14,
   "metadata": {},
   "outputs": [
    {
     "name": "stdout",
     "output_type": "stream",
     "text": [
      "Solicitar pepsi à equipe de compras, temos apenas 45 unidades em estoque.\n"
     ]
    },
    {
     "ename": "",
     "evalue": "",
     "output_type": "error",
     "traceback": [
      "\u001b[1;31mThe Kernel crashed while executing code in the current cell or a previous cell. \n",
      "\u001b[1;31mPlease review the code in the cell(s) to identify a possible cause of the failure. \n",
      "\u001b[1;31mClick <a href='https://aka.ms/vscodeJupyterKernelCrash'>here</a> for more info. \n",
      "\u001b[1;31mView Jupyter <a href='command:jupyter.viewOutput'>log</a> for further details."
     ]
    }
   ],
   "source": [
    "# Função para verificar o estoque e solicitar produtos se necessário\n",
    "def verificar_estoque(nome_produto, categoria, quantidade_estoque):\n",
    "    # Estoques mínimos por categoria\n",
    "    estoques_minimos = {\n",
    "        \"alimentos\": 50,\n",
    "        \"bebidas\": 75,\n",
    "        \"limpeza\": 30\n",
    "    }\n",
    "    \n",
    "    # Verifica se a categoria existe\n",
    "    if categoria in estoques_minimos:\n",
    "        # Verifica se o estoque está abaixo do mínimo\n",
    "        estoque_minimo = estoques_minimos[categoria]\n",
    "        if quantidade_estoque < estoque_minimo:\n",
    "            print(f\"Solicitar {nome_produto} à equipe de compras, temos apenas {quantidade_estoque} unidades em estoque.\")\n",
    "        else:\n",
    "            print(f\"O estoque de {nome_produto} está suficiente.\")\n",
    "    else:\n",
    "        print(\"Categoria inválida! Verifique as opções: alimentos, bebidas, limpeza.\")\n",
    "\n",
    "# Solicita as entradas do usuário\n",
    "nome_produto = input(\"Digite o nome do produto: \")\n",
    "categoria_produto = input(\"Digite a categoria do produto (alimentos/bebidas/limpeza): \").lower()\n",
    "quantidade_estoque = int(input(\"Digite a quantidade atual em estoque: \"))\n",
    "\n",
    "# Verifica o estoque do produto\n",
    "\n",
    "\n",
    "verificar_estoque(nome_produto, categoria_produto, quantidade_estoque)\n"
   ]
  },
  {
   "cell_type": "code",
   "execution_count": null,
   "metadata": {},
   "outputs": [],
   "source": []
  }
 ],
 "metadata": {
  "kernelspec": {
   "display_name": "Python 3",
   "language": "python",
   "name": "python3"
  },
  "language_info": {
   "codemirror_mode": {
    "name": "ipython",
    "version": 3
   },
   "file_extension": ".py",
   "mimetype": "text/x-python",
   "name": "python",
   "nbconvert_exporter": "python",
   "pygments_lexer": "ipython3",
   "version": "3.12.2"
  }
 },
 "nbformat": 4,
 "nbformat_minor": 2
}
