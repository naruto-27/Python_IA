{
 "cells": [
  {
   "cell_type": "code",
   "execution_count": 1,
   "metadata": {},
   "outputs": [
    {
     "name": "stdout",
     "output_type": "stream",
     "text": [
      "Meu primeiro codigo no Jupyter\n"
     ]
    }
   ],
   "source": [
    "print(\"Meu primeiro codigo no Jupyter\")"
   ]
  },
  {
   "cell_type": "code",
   "execution_count": 2,
   "metadata": {},
   "outputs": [
    {
     "name": "stdout",
     "output_type": "stream",
     "text": [
      "500\n"
     ]
    }
   ],
   "source": [
    "faturamento = 1000\n",
    "custo = 500\n",
    "\n",
    "lucro = faturamento - custo\n",
    "print(lucro)"
   ]
  },
  {
   "cell_type": "code",
   "execution_count": 3,
   "metadata": {},
   "outputs": [
    {
     "data": {
      "text/plain": [
       "int"
      ]
     },
     "execution_count": 3,
     "metadata": {},
     "output_type": "execute_result"
    }
   ],
   "source": [
    "faturamento = 1000\n",
    "type(faturamento)"
   ]
  },
  {
   "cell_type": "code",
   "execution_count": 4,
   "metadata": {},
   "outputs": [
    {
     "data": {
      "text/plain": [
       "float"
      ]
     },
     "execution_count": 4,
     "metadata": {},
     "output_type": "execute_result"
    }
   ],
   "source": [
    "faturamento = 1000.00\n",
    "type(faturamento)"
   ]
  },
  {
   "cell_type": "code",
   "execution_count": 5,
   "metadata": {},
   "outputs": [
    {
     "data": {
      "text/plain": [
       "str"
      ]
     },
     "execution_count": 5,
     "metadata": {},
     "output_type": "execute_result"
    }
   ],
   "source": [
    "faturamento = \"1.000\"\n",
    "type(faturamento)"
   ]
  },
  {
   "cell_type": "code",
   "execution_count": 6,
   "metadata": {},
   "outputs": [
    {
     "data": {
      "text/plain": [
       "bool"
      ]
     },
     "execution_count": 6,
     "metadata": {},
     "output_type": "execute_result"
    }
   ],
   "source": [
    "ganha_bonus = True\n",
    "type(ganha_bonus)"
   ]
  },
  {
   "cell_type": "code",
   "execution_count": 14,
   "metadata": {},
   "outputs": [
    {
     "name": "stdout",
     "output_type": "stream",
     "text": [
      " O faturamento da loja foi 1000O custo da loja foi 500 Assim, o lucro da loja foi 500 reais\n"
     ]
    }
   ],
   "source": [
    "faturamento = 1000\n",
    "custo = 500\n",
    "lucro = faturamento - custo\n",
    "print(' O faturamento da loja foi ' + str(faturamento) +'O custo da loja foi ' + str(custo) + ' ' +  'Assim, o lucro da loja foi ' + str(lucro) + ' ' + 'reais')\n"
   ]
  },
  {
   "cell_type": "code",
   "execution_count": 19,
   "metadata": {},
   "outputs": [
    {
     "name": "stdout",
     "output_type": "stream",
     "text": [
      "O faturamento da loja foi 2000. O custo da loja foi 500. Assim, o lucro da loja foi 1500\n",
      "O faturamento foi de 2000 e o lucro de 500\n"
     ]
    }
   ],
   "source": [
    "faturamento = 2000\n",
    "custo = 500\n",
    "lucro = faturamento - custo\n",
    "# com format\n",
    "print('O faturamento da loja foi {}. O custo da loja foi {}. Assim, o lucro da loja foi {}'.format(faturamento, custo ,lucro))\n",
    "\n",
    "# com f-string\n",
    "print(f\"O faturamento foi de {faturamento} e o lucro de {custo}\")"
   ]
  },
  {
   "cell_type": "code",
   "execution_count": 1,
   "metadata": {},
   "outputs": [
    {
     "name": "stdout",
     "output_type": "stream",
     "text": [
      "<class 'float'>\n",
      "<class 'float'>\n",
      "500.0\n"
     ]
    }
   ],
   "source": [
    "faturamento = float(input(\"Insira o faturamento\"))\n",
    "custo = float(input(\"Insira o custo\"))\n",
    "\n",
    "print(type(faturamento))\n",
    "print(type(custo))\n",
    "\n",
    "lucro = faturamento - custo\n",
    "\n",
    "print(lucro)"
   ]
  },
  {
   "cell_type": "code",
   "execution_count": 2,
   "metadata": {},
   "outputs": [
    {
     "name": "stdout",
     "output_type": "stream",
     "text": [
      "Seu salário é de: 3220.8\n"
     ]
    }
   ],
   "source": [
    "salario_hr = float(input(\"Insira seu salário\"))\n",
    "horas_trabalhadas = float(input(\"Insira a carga horária trabalhada no mês\"))\n",
    "\n",
    "salario_total = salario_hr * horas_trabalhadas \n",
    "\n",
    "print(f\"Seu salário é de: {salario_total}\")\n"
   ]
  },
  {
   "cell_type": "code",
   "execution_count": 4,
   "metadata": {},
   "outputs": [
    {
     "name": "stdout",
     "output_type": "stream",
     "text": [
      "A média das notas é:  34.50\n"
     ]
    }
   ],
   "source": [
    "nota1 = float(input(\"Insira a primeira nota: \"))\n",
    "nota2 = float(input(\"Insira a segunda nota: \"))\n",
    "nota3 = float(input(\"Insira a terceira nota: \"))\n",
    "nota4 = float(input(\"Insira a quarta nota: \"))\n",
    "\n",
    "media_nota = (nota1 + nota2 + nota3 + nota4)/4\n",
    "\n",
    "\n",
    "print(f\"A média das notas é: {media_nota: .2f}\")"
   ]
  },
  {
   "cell_type": "code",
   "execution_count": 6,
   "metadata": {},
   "outputs": [
    {
     "name": "stdout",
     "output_type": "stream",
     "text": [
      "15\n"
     ]
    }
   ],
   "source": [
    "def soma_lista(numeros):\n",
    "    return sum(numeros)\n",
    "\n",
    "numeros = [1, 2, 3, 4, 5]\n",
    "resultado = soma_lista(numeros)\n",
    "print(resultado)  # Isso vai imprimir 15\n"
   ]
  },
  {
   "cell_type": "code",
   "execution_count": null,
   "metadata": {},
   "outputs": [],
   "source": [
    "def soma(a, b):\n",
    "    return a + b\n",
    "\n",
    "resultado = soma(5, 3)\n",
    "print(resultado)  # Isso vai imprimir 8\n"
   ]
  }
 ],
 "metadata": {
  "kernelspec": {
   "display_name": "Python 3",
   "language": "python",
   "name": "python3"
  },
  "language_info": {
   "codemirror_mode": {
    "name": "ipython",
    "version": 3
   },
   "file_extension": ".py",
   "mimetype": "text/x-python",
   "name": "python",
   "nbconvert_exporter": "python",
   "pygments_lexer": "ipython3",
   "version": "3.12.2"
  }
 },
 "nbformat": 4,
 "nbformat_minor": 2
}
